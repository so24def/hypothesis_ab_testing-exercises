{
 "cells": [
  {
   "cell_type": "markdown",
   "id": "5005bb18",
   "metadata": {},
   "source": [
    "***\n",
    "## A/B Testing\n",
    "\n",
    "__Scenario:__\n",
    " \n",
    " `An online store is looking to optimize the layout of their product pages to increase the average time spent by users on the website. They have identified two potential layouts, A (control) and B (test), and want to conduct an A/B test to determine if layout B leads to a statistically significant increase in average time spent on the website compared to layout A.`\n",
    "\n",
    "__Data:__\n",
    " \n",
    " `The online store collected data from 500 users who visited their website. They randomly assigned 250 users to the control group (layout A) and 250 users to the test group (layout B). They measured the average time spent on the website in minutes for each user.`"
   ]
  },
  {
   "cell_type": "code",
   "execution_count": 1,
   "id": "5c2804a5",
   "metadata": {
    "execution": {
     "iopub.execute_input": "2023-03-20T17:21:24.777944Z",
     "iopub.status.busy": "2023-03-20T17:21:24.777134Z",
     "iopub.status.idle": "2023-03-20T17:21:26.339978Z",
     "shell.execute_reply": "2023-03-20T17:21:26.338712Z"
    },
    "papermill": {
     "duration": 1.573659,
     "end_time": "2023-03-20T17:21:26.342982",
     "exception": false,
     "start_time": "2023-03-20T17:21:24.769323",
     "status": "completed"
    },
    "tags": []
   },
   "outputs": [],
   "source": [
    "import numpy as np\n",
    "import pandas as pd\n",
    "pd.set_option('display.float_format', lambda x: '%.5f' % x)"
   ]
  },
  {
   "cell_type": "code",
   "execution_count": 7,
   "id": "2e13a362",
   "metadata": {
    "execution": {
     "iopub.execute_input": "2023-03-20T17:21:26.369673Z",
     "iopub.status.busy": "2023-03-20T17:21:26.369213Z",
     "iopub.status.idle": "2023-03-20T17:21:26.415120Z",
     "shell.execute_reply": "2023-03-20T17:21:26.413834Z"
    },
    "papermill": {
     "duration": 0.056755,
     "end_time": "2023-03-20T17:21:26.418161",
     "exception": false,
     "start_time": "2023-03-20T17:21:26.361406",
     "status": "completed"
    },
    "tags": []
   },
   "outputs": [
    {
     "data": {
      "text/html": [
       "<div>\n",
       "<style scoped>\n",
       "    .dataframe tbody tr th:only-of-type {\n",
       "        vertical-align: middle;\n",
       "    }\n",
       "\n",
       "    .dataframe tbody tr th {\n",
       "        vertical-align: top;\n",
       "    }\n",
       "\n",
       "    .dataframe thead th {\n",
       "        text-align: right;\n",
       "    }\n",
       "</style>\n",
       "<table border=\"1\" class=\"dataframe\">\n",
       "  <thead>\n",
       "    <tr style=\"text-align: right;\">\n",
       "      <th></th>\n",
       "      <th>Group</th>\n",
       "      <th>Time_Spent</th>\n",
       "    </tr>\n",
       "  </thead>\n",
       "  <tbody>\n",
       "    <tr>\n",
       "      <th>0</th>\n",
       "      <td>A</td>\n",
       "      <td>3.91437</td>\n",
       "    </tr>\n",
       "    <tr>\n",
       "      <th>1</th>\n",
       "      <td>A</td>\n",
       "      <td>5.99735</td>\n",
       "    </tr>\n",
       "    <tr>\n",
       "      <th>2</th>\n",
       "      <td>A</td>\n",
       "      <td>5.28298</td>\n",
       "    </tr>\n",
       "    <tr>\n",
       "      <th>3</th>\n",
       "      <td>A</td>\n",
       "      <td>3.49371</td>\n",
       "    </tr>\n",
       "    <tr>\n",
       "      <th>4</th>\n",
       "      <td>A</td>\n",
       "      <td>4.42140</td>\n",
       "    </tr>\n",
       "    <tr>\n",
       "      <th>...</th>\n",
       "      <td>...</td>\n",
       "      <td>...</td>\n",
       "    </tr>\n",
       "    <tr>\n",
       "      <th>495</th>\n",
       "      <td>B</td>\n",
       "      <td>8.13576</td>\n",
       "    </tr>\n",
       "    <tr>\n",
       "      <th>496</th>\n",
       "      <td>B</td>\n",
       "      <td>8.02597</td>\n",
       "    </tr>\n",
       "    <tr>\n",
       "      <th>497</th>\n",
       "      <td>B</td>\n",
       "      <td>6.94615</td>\n",
       "    </tr>\n",
       "    <tr>\n",
       "      <th>498</th>\n",
       "      <td>B</td>\n",
       "      <td>7.62316</td>\n",
       "    </tr>\n",
       "    <tr>\n",
       "      <th>499</th>\n",
       "      <td>B</td>\n",
       "      <td>6.71590</td>\n",
       "    </tr>\n",
       "  </tbody>\n",
       "</table>\n",
       "<p>500 rows × 2 columns</p>\n",
       "</div>"
      ],
      "text/plain": [
       "    Group  Time_Spent\n",
       "0       A     3.91437\n",
       "1       A     5.99735\n",
       "2       A     5.28298\n",
       "3       A     3.49371\n",
       "4       A     4.42140\n",
       "..    ...         ...\n",
       "495     B     8.13576\n",
       "496     B     8.02597\n",
       "497     B     6.94615\n",
       "498     B     7.62316\n",
       "499     B     6.71590\n",
       "\n",
       "[500 rows x 2 columns]"
      ]
     },
     "execution_count": 7,
     "metadata": {},
     "output_type": "execute_result"
    }
   ],
   "source": [
    "df = pd.read_csv('ab_continuous_parametric.csv')\n",
    "df"
   ]
  },
  {
   "cell_type": "code",
   "execution_count": 10,
   "id": "fbf03fe5",
   "metadata": {
    "execution": {
     "iopub.execute_input": "2023-03-20T17:21:26.704681Z",
     "iopub.status.busy": "2023-03-20T17:21:26.704287Z",
     "iopub.status.idle": "2023-03-20T17:21:26.727110Z",
     "shell.execute_reply": "2023-03-20T17:21:26.725754Z"
    },
    "papermill": {
     "duration": 0.03407,
     "end_time": "2023-03-20T17:21:26.729622",
     "exception": false,
     "start_time": "2023-03-20T17:21:26.695552",
     "status": "completed"
    },
    "tags": []
   },
   "outputs": [
    {
     "data": {
      "text/html": [
       "<div>\n",
       "<style scoped>\n",
       "    .dataframe tbody tr th:only-of-type {\n",
       "        vertical-align: middle;\n",
       "    }\n",
       "\n",
       "    .dataframe tbody tr th {\n",
       "        vertical-align: top;\n",
       "    }\n",
       "\n",
       "    .dataframe thead th {\n",
       "        text-align: right;\n",
       "    }\n",
       "</style>\n",
       "<table border=\"1\" class=\"dataframe\">\n",
       "  <thead>\n",
       "    <tr style=\"text-align: right;\">\n",
       "      <th></th>\n",
       "      <th>count</th>\n",
       "      <th>median</th>\n",
       "      <th>mean</th>\n",
       "      <th>var</th>\n",
       "      <th>max</th>\n",
       "      <th>min</th>\n",
       "      <th>sum</th>\n",
       "    </tr>\n",
       "    <tr>\n",
       "      <th>Group</th>\n",
       "      <th></th>\n",
       "      <th></th>\n",
       "      <th></th>\n",
       "      <th></th>\n",
       "      <th></th>\n",
       "      <th></th>\n",
       "      <th></th>\n",
       "    </tr>\n",
       "  </thead>\n",
       "  <tbody>\n",
       "    <tr>\n",
       "      <th>A</th>\n",
       "      <td>250</td>\n",
       "      <td>4.99093</td>\n",
       "      <td>4.97938</td>\n",
       "      <td>1.03938</td>\n",
       "      <td>7.59830</td>\n",
       "      <td>1.76894</td>\n",
       "      <td>1244.84599</td>\n",
       "    </tr>\n",
       "    <tr>\n",
       "      <th>B</th>\n",
       "      <td>250</td>\n",
       "      <td>6.82073</td>\n",
       "      <td>6.88666</td>\n",
       "      <td>3.92352</td>\n",
       "      <td>12.91725</td>\n",
       "      <td>1.73712</td>\n",
       "      <td>1721.66406</td>\n",
       "    </tr>\n",
       "  </tbody>\n",
       "</table>\n",
       "</div>"
      ],
      "text/plain": [
       "       count  median    mean     var      max     min        sum\n",
       "Group                                                           \n",
       "A        250 4.99093 4.97938 1.03938  7.59830 1.76894 1244.84599\n",
       "B        250 6.82073 6.88666 3.92352 12.91725 1.73712 1721.66406"
      ]
     },
     "execution_count": 10,
     "metadata": {},
     "output_type": "execute_result"
    }
   ],
   "source": [
    "# A/B Groups & Target Summary Stats\n",
    "df.groupby(\"Group\")['Time_Spent'].agg([\"count\", \"median\", \"mean\",\"var\", \"max\", 'min','sum'])"
   ]
  },
  {
   "cell_type": "markdown",
   "id": "cde04c68",
   "metadata": {},
   "source": [
    "__From the descriptive statistics above we can tell that:__\n",
    "* Group B users have a higher mean of time spent than Group A users\n",
    "* Group B users have a higher variance of time spent than Group A users\n",
    "\n",
    "__While the null and alternative hypotheses are:__\n",
    "\n",
    "$H_0 : \\mu_A = \\mu_B$\n",
    "\n",
    "$H_1 : \\mu_A < \\mu_B$\n",
    "\n",
    "If $ H_1 $ is true, the claim of `layout B leads to a statistically significant increase in average time spent on the website compared to layout A` is also correct. `\n",
    "\n",
    "***"
   ]
  },
  {
   "cell_type": "markdown",
   "id": "a5fa039e",
   "metadata": {
    "papermill": {
     "duration": 0.009792,
     "end_time": "2023-03-20T17:21:27.690543",
     "exception": false,
     "start_time": "2023-03-20T17:21:27.680751",
     "status": "completed"
    },
    "tags": []
   },
   "source": [
    "***\n",
    "## Test Pipeline\n",
    "\n",
    "\n",
    "#### __Normality Assumption__\n",
    "* Apply `Shapiro test`. If normality assumption is met, a _parametric test_ will be used.\n",
    "    * Check __Homogeneity of Variance__ with `Levene test`. If homogeneous use `independent t-test`, else use `Welch's t-test`.\n",
    "* If normality assumption is not met, use _non-parametric_ `Mann-Whitney U test`. \n",
    "\n",
    "\n"
   ]
  },
  {
   "cell_type": "code",
   "execution_count": 13,
   "id": "45b63197",
   "metadata": {
    "execution": {
     "iopub.execute_input": "2023-03-20T17:21:27.713923Z",
     "iopub.status.busy": "2023-03-20T17:21:27.713113Z",
     "iopub.status.idle": "2023-03-20T17:21:27.747338Z",
     "shell.execute_reply": "2023-03-20T17:21:27.745786Z"
    },
    "papermill": {
     "duration": 0.04878,
     "end_time": "2023-03-20T17:21:27.749911",
     "exception": false,
     "start_time": "2023-03-20T17:21:27.701131",
     "status": "completed"
    },
    "scrolled": true,
    "tags": []
   },
   "outputs": [],
   "source": [
    "def AB_Test_continuous_data(dataframe, group, target, A, B):\n",
    "    \n",
    "    from scipy.stats import shapiro, levene, ttest_ind, mannwhitneyu    \n",
    "    \n",
    "    # Set A/B\n",
    "    groupA = dataframe[dataframe[group] == A][target]\n",
    "    groupB = dataframe[dataframe[group] == B][target]\n",
    "    \n",
    "    # Normality Assumption\n",
    "    ntA = shapiro(groupA)[1] < 0.05\n",
    "    ntB = shapiro(groupB)[1] < 0.05\n",
    "    # H0: Distribution is Normal! = False\n",
    "    # H1: Distribution is not Normal! = True\n",
    "    \n",
    "    if (ntA == False) & (ntB == False): # \"H0: Normal Distribution\"\n",
    "        # Parametric Test\n",
    "        # Assumption: Homogeneity of variances\n",
    "        leveneTest = levene(groupA, groupB)[1] < 0.05\n",
    "        # H0: Homogeneity: False\n",
    "        # H1: Heterogeneous: True\n",
    "        \n",
    "        if leveneTest == False:\n",
    "            # Homogeneity of variances --> independent T test\n",
    "            test = ttest_ind(groupA, groupB, equal_var=True)[1]\n",
    "        else:\n",
    "            # Heterogeneous variances --> Welch's t-test\n",
    "            test = ttest_ind(groupA, groupB, equal_var=False)[1]\n",
    "            # H0: M1 == M2 - False\n",
    "            # H1: M1 != M2 - True\n",
    "    else:\n",
    "        # Non-Parametric Test --> Mann - Whitney U test\n",
    "        test = mannwhitneyu(groupA, groupB)[1] \n",
    "        # H0: M1 == M2 - False\n",
    "        # H1: M1 != M2 - True\n",
    "        \n",
    "    # Results\n",
    "    temp = pd.DataFrame({\n",
    "        \"p-value\":[test],\n",
    "        \"AB Hypothesis\":[test < 0.05]\n",
    "    })\n",
    "    temp[\"Test Type\"] = np.where((ntA == False) & (ntB == False), \"Parametric\", \"Non-Parametric\")\n",
    "    temp[\"AB Hypothesis\"] = np.where(temp[\"AB Hypothesis\"] == False, \"Fail to Reject H0\", \"Reject H0\")\n",
    "    temp[\"Comment\"] = np.where(temp[\"AB Hypothesis\"] == \"Fail to Reject H0\", \"A/B groups are similar!\", \"A/B groups are not similar!\")\n",
    "    \n",
    "    # Columns\n",
    "    if (ntA == False) & (ntB == False):\n",
    "        temp[\"Homogeneity\"] = np.where(leveneTest == False, \"Yes\", \"No\")\n",
    "        temp = temp[[\"Test Type\", \"Homogeneity\",\"AB Hypothesis\", \"p-value\", \"Comment\"]]\n",
    "    else:\n",
    "        temp = temp[[\"Test Type\",\"AB Hypothesis\", \"p-value\", \"Comment\"]]\n",
    "    \n",
    "    return temp"
   ]
  },
  {
   "cell_type": "code",
   "execution_count": 14,
   "id": "e238d6f9",
   "metadata": {},
   "outputs": [
    {
     "data": {
      "text/html": [
       "<div>\n",
       "<style scoped>\n",
       "    .dataframe tbody tr th:only-of-type {\n",
       "        vertical-align: middle;\n",
       "    }\n",
       "\n",
       "    .dataframe tbody tr th {\n",
       "        vertical-align: top;\n",
       "    }\n",
       "\n",
       "    .dataframe thead th {\n",
       "        text-align: right;\n",
       "    }\n",
       "</style>\n",
       "<table border=\"1\" class=\"dataframe\">\n",
       "  <thead>\n",
       "    <tr style=\"text-align: right;\">\n",
       "      <th></th>\n",
       "      <th>Test Type</th>\n",
       "      <th>Homogeneity</th>\n",
       "      <th>AB Hypothesis</th>\n",
       "      <th>p-value</th>\n",
       "      <th>Comment</th>\n",
       "    </tr>\n",
       "  </thead>\n",
       "  <tbody>\n",
       "    <tr>\n",
       "      <th>0</th>\n",
       "      <td>Parametric</td>\n",
       "      <td>No</td>\n",
       "      <td>Reject H0</td>\n",
       "      <td>0.00000</td>\n",
       "      <td>A/B groups are not similar!</td>\n",
       "    </tr>\n",
       "  </tbody>\n",
       "</table>\n",
       "</div>"
      ],
      "text/plain": [
       "    Test Type Homogeneity AB Hypothesis  p-value                      Comment\n",
       "0  Parametric          No     Reject H0  0.00000  A/B groups are not similar!"
      ]
     },
     "execution_count": 14,
     "metadata": {},
     "output_type": "execute_result"
    }
   ],
   "source": [
    "AB_Test_continuous_data(dataframe=df, group=\"Group\", target=\"Time_Spent\", A='A', B='B')"
   ]
  },
  {
   "cell_type": "code",
   "execution_count": null,
   "id": "b6df3af7",
   "metadata": {},
   "outputs": [],
   "source": []
  }
 ],
 "metadata": {
  "kernelspec": {
   "display_name": "Python 3 (ipykernel)",
   "language": "python",
   "name": "python3"
  },
  "language_info": {
   "codemirror_mode": {
    "name": "ipython",
    "version": 3
   },
   "file_extension": ".py",
   "mimetype": "text/x-python",
   "name": "python",
   "nbconvert_exporter": "python",
   "pygments_lexer": "ipython3",
   "version": "3.10.6"
  },
  "papermill": {
   "default_parameters": {},
   "duration": 13.825504,
   "end_time": "2023-03-20T17:21:28.544632",
   "environment_variables": {},
   "exception": null,
   "input_path": "__notebook__.ipynb",
   "output_path": "__notebook__.ipynb",
   "parameters": {},
   "start_time": "2023-03-20T17:21:14.719128",
   "version": "2.4.0"
  }
 },
 "nbformat": 4,
 "nbformat_minor": 5
}
